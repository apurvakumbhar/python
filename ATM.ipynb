{
 "cells": [
  {
   "cell_type": "code",
   "execution_count": 3,
   "id": "26b52c51-f8b1-4d14-812f-1827370d27f8",
   "metadata": {},
   "outputs": [
    {
     "name": "stdout",
     "output_type": "stream",
     "text": [
      "1. Check balance\n",
      "2. Deposit money\n",
      "3. Withdraw money\n",
      "4. Exit the system\n"
     ]
    },
    {
     "name": "stdin",
     "output_type": "stream",
     "text": [
      "Enter your choice:  1\n"
     ]
    },
    {
     "name": "stdout",
     "output_type": "stream",
     "text": [
      "Your current balance is: $10000\n",
      "1. Check balance\n",
      "2. Deposit money\n",
      "3. Withdraw money\n",
      "4. Exit the system\n"
     ]
    },
    {
     "name": "stdin",
     "output_type": "stream",
     "text": [
      "Enter your choice:  2\n",
      "Enter deposit amount:  109746\n"
     ]
    },
    {
     "name": "stdout",
     "output_type": "stream",
     "text": [
      "Deposit successful! Your new balance is: $119746\n",
      "1. Check balance\n",
      "2. Deposit money\n",
      "3. Withdraw money\n",
      "4. Exit the system\n"
     ]
    },
    {
     "name": "stdin",
     "output_type": "stream",
     "text": [
      "Enter your choice:  3\n",
      "Enter withdrawal amount:  245\n"
     ]
    },
    {
     "name": "stdout",
     "output_type": "stream",
     "text": [
      "Withdrawal successful! Your new balance is: $119501\n",
      "1. Check balance\n",
      "2. Deposit money\n",
      "3. Withdraw money\n",
      "4. Exit the system\n"
     ]
    },
    {
     "name": "stdin",
     "output_type": "stream",
     "text": [
      "Enter your choice:  4\n"
     ]
    },
    {
     "name": "stdout",
     "output_type": "stream",
     "text": [
      "Exiting the system. Thank you!\n"
     ]
    }
   ],
   "source": [
    "balance = 10000\n",
    "\n",
    "while True:\n",
    "    print(\"1. Check balance\")\n",
    "    print(\"2. Deposit money\")\n",
    "    print(\"3. Withdraw money\")\n",
    "    print(\"4. Exit the system\")\n",
    "    \n",
    "    choice = int(input(\"Enter your choice: \"))\n",
    "    \n",
    "    if choice == 1:\n",
    "        print(f\"Your current balance is: ${balance}\")\n",
    "    elif choice == 2:\n",
    "        deposit_money = int(input(\"Enter deposit amount: \"))\n",
    "        balance += deposit_money\n",
    "        print(f\"Deposit successful! Your new balance is: ${balance}\")\n",
    "    elif choice == 3:\n",
    "        withdraw_money = int(input(\"Enter withdrawal amount: \"))\n",
    "        if withdraw_money > balance:\n",
    "            print(\"Insufficient balance!\")\n",
    "        else:\n",
    "            balance -= withdraw_money\n",
    "            print(f\"Withdrawal successful! Your new balance is: ${balance}\")\n",
    "    elif choice == 4:\n",
    "        print(\"Exiting the system. Thank you!\")\n",
    "        break\n",
    "    else:\n",
    "        print(\"Invalid choice. Please try again.\")            \n",
    "                         "
   ]
  },
  {
   "cell_type": "code",
   "execution_count": null,
   "id": "96f52665-90c8-4fde-8acc-afc86cdcf05e",
   "metadata": {},
   "outputs": [],
   "source": [
    ")"
   ]
  }
 ],
 "metadata": {
  "kernelspec": {
   "display_name": "anaconda-panel-2023.05-py310",
   "language": "python",
   "name": "conda-env-anaconda-panel-2023.05-py310-py"
  },
  "language_info": {
   "codemirror_mode": {
    "name": "ipython",
    "version": 3
   },
   "file_extension": ".py",
   "mimetype": "text/x-python",
   "name": "python",
   "nbconvert_exporter": "python",
   "pygments_lexer": "ipython3",
   "version": "3.11.5"
  }
 },
 "nbformat": 4,
 "nbformat_minor": 5
}
