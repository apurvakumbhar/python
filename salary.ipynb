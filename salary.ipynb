{
 "cells": [
  {
   "cell_type": "code",
   "execution_count": 6,
   "id": "7ebcded4-be80-4c3d-835f-a62d3f2518ea",
   "metadata": {},
   "outputs": [
    {
     "name": "stdin",
     "output_type": "stream",
     "text": [
      "Enter Employee's Salary: 40000\n"
     ]
    },
    {
     "name": "stdout",
     "output_type": "stream",
     "text": [
      "Medium income\n"
     ]
    }
   ],
   "source": [
    "employee_salary=int(input(\"Enter Employee's Salary:\"))\n",
    "if employee_salary>50000:\n",
    "    print(\"High income\")\n",
    "else:\n",
    "    if employee_salary>=30000 and employee_salary<=50000:\n",
    "        print(\"Medium income\")\n",
    "    else:\n",
    "        if employee_salary<30000:\n",
    "            print(\"Low income\")\n"
   ]
  }
 ],
 "metadata": {
  "kernelspec": {
   "display_name": "anaconda-panel-2023.05-py310",
   "language": "python",
   "name": "conda-env-anaconda-panel-2023.05-py310-py"
  },
  "language_info": {
   "codemirror_mode": {
    "name": "ipython",
    "version": 3
   },
   "file_extension": ".py",
   "mimetype": "text/x-python",
   "name": "python",
   "nbconvert_exporter": "python",
   "pygments_lexer": "ipython3",
   "version": "3.11.5"
  }
 },
 "nbformat": 4,
 "nbformat_minor": 5
}
