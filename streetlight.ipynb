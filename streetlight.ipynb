{
 "cells": [
  {
   "cell_type": "code",
   "execution_count": 1,
   "id": "44c4fe0f-5a3c-4d42-b509-9b8831b2930b",
   "metadata": {},
   "outputs": [
    {
     "name": "stdin",
     "output_type": "stream",
     "text": [
      "Enter streetlight number: 20000\n"
     ]
    },
    {
     "name": "stdout",
     "output_type": "stream",
     "text": [
      "Light will ON\n"
     ]
    }
   ],
   "source": [
    "streetlight_no=int(input(\"Enter streetlight number:\"))\n",
    "if streetlight_no % 2==0:\n",
    "    print(\"Light will ON\")\n",
    "else:\n",
    "    print(\"Light will OFF\")"
   ]
  },
  {
   "cell_type": "code",
   "execution_count": null,
   "id": "29a10464-391b-4277-9bea-b75ddca612d5",
   "metadata": {},
   "outputs": [],
   "source": []
  }
 ],
 "metadata": {
  "kernelspec": {
   "display_name": "anaconda-panel-2023.05-py310",
   "language": "python",
   "name": "conda-env-anaconda-panel-2023.05-py310-py"
  },
  "language_info": {
   "codemirror_mode": {
    "name": "ipython",
    "version": 3
   },
   "file_extension": ".py",
   "mimetype": "text/x-python",
   "name": "python",
   "nbconvert_exporter": "python",
   "pygments_lexer": "ipython3",
   "version": "3.11.5"
  }
 },
 "nbformat": 4,
 "nbformat_minor": 5
}
