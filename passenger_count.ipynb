{
 "cells": [
  {
   "cell_type": "code",
   "execution_count": 1,
   "id": "face2ce0-f881-4057-8864-2f8f0d9b5886",
   "metadata": {},
   "outputs": [
    {
     "name": "stdin",
     "output_type": "stream",
     "text": [
      "Enter the number of passengers at stop 1:  43\n",
      "Enter the number of passengers at stop 2:  12\n",
      "Enter the number of passengers at stop 3:  6\n",
      "Enter the number of passengers at stop 4:  8\n",
      "Enter the number of passengers at stop 5:  2\n"
     ]
    },
    {
     "name": "stdout",
     "output_type": "stream",
     "text": [
      "Total passengers in the bus: 71\n"
     ]
    }
   ],
   "source": [
    "total_passengers = 0\n",
    "for stop in range(1, 6):\n",
    "    passengers = int(input(f\"Enter the number of passengers at stop {stop}: \"))\n",
    "    if passengers >= 0:\n",
    "        total_passengers += passengers\n",
    "    else:\n",
    "        print(\"Invalid input! Passengers cannot be negative.\")\n",
    "        break  \n",
    "print(f\"Total passengers in the bus: {total_passengers}\")"
   ]
  },
  {
   "cell_type": "code",
   "execution_count": null,
   "id": "a9437d08-1ccf-4f45-9f70-6de927727508",
   "metadata": {},
   "outputs": [],
   "source": []
  }
 ],
 "metadata": {
  "kernelspec": {
   "display_name": "anaconda-panel-2023.05-py310",
   "language": "python",
   "name": "conda-env-anaconda-panel-2023.05-py310-py"
  },
  "language_info": {
   "codemirror_mode": {
    "name": "ipython",
    "version": 3
   },
   "file_extension": ".py",
   "mimetype": "text/x-python",
   "name": "python",
   "nbconvert_exporter": "python",
   "pygments_lexer": "ipython3",
   "version": "3.11.5"
  }
 },
 "nbformat": 4,
 "nbformat_minor": 5
}
